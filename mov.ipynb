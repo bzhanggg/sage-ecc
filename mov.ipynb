{
 "cells": [
  {
   "cell_type": "code",
   "execution_count": 2,
   "metadata": {},
   "outputs": [],
   "source": [
    "p = 1331169830894825846283645180581\n",
    "E = EllipticCurve(GF(p), [-35, 98])\n",
    "\n",
    "# Generator:\n",
    "G = E(479691812266187139164535778017, 568535594075310466177352868412)\n",
    "# Alice's public key::\n",
    "A = E(1110072782478160369250829345256, 800079550745409318906383650948)\n",
    "# Bob's public key:\n",
    "B = E(1290982289093010194550717223760, 762857612860564354370535420319)"
   ]
  },
  {
   "cell_type": "code",
   "execution_count": 3,
   "metadata": {},
   "outputs": [
    {
     "name": "stdout",
     "output_type": "stream",
     "text": [
      "Order of curve E: 1331169830894823538756977170156\n",
      "Factorization of oE: 2^2 * 7 * 271^2 * 23687^2 * 1153763334005213\n",
      "Order of G: 103686954799254136375814\n",
      "Factorization of oG: 2 * 7 * 271 * 23687 * 1153763334005213\n",
      "Order of A: 103686954799254136375814\n",
      "Factorization of oA: 2 * 7 * 271 * 23687 * 1153763334005213\n",
      "The goal is to find some a_r such that (113155530967107107721855063813 : 1015480459109370604595193250002 : 1) = a_r * (513790355677961677339711089503 : 826383845826281865370403576638 : 1)\n",
      "2\n",
      "Elliptic Curve defined by y^2 = x^3 + 1331169830894825846283645180546*x + 98 over Finite Field in z2 of size 1331169830894825846283645180581^2\n"
     ]
    }
   ],
   "source": [
    "# DLP: we want to find coefficient a such that aG = A\n",
    "# we want to find the order of the curve E, as well as the points G, A, and B\n",
    "# this restricts the space of possible secret keys\n",
    "oE = E.order()\n",
    "oG = G.order()\n",
    "oA = A.order()\n",
    "\n",
    "print(\"Order of curve E: \" + str(oE))\n",
    "print(\"Factorization of oE: \" + str(oE.factor()))\n",
    "print(\"Order of G: \" + str(oG))\n",
    "print(\"Factorization of oG: \" + str(oG.factor()))\n",
    "print(\"Order of A: \" + str(oA))\n",
    "print(\"Factorization of oA: \" + str(oA.factor()))\n",
    "\n",
    "# We can now decompose the DLP of the group into 2 DLPs of the subgroups via the Chinese Remainder Theorem:\n",
    "# Secret key (a mod rs) can be found by finding (a mod r) and (a mod s) individually.\n",
    "\n",
    "# We see that the largest prime shared by E, G, and A is\n",
    "r = 1153763334005213\n",
    "# Then we let the remainder (which is smooth) be denoted by\n",
    "s = 2 * 7 * 271 * 23687\n",
    "# From this, r*s*G = 0, so we can find, for E[r], sA = a_r(sG) (solving for a_r)\n",
    "# and rA = a_s(rG) (solving for a_s)\n",
    "# combining a_r and a_s using CRT should give a\n",
    "\n",
    "sA = s * A\n",
    "sG = s * G\n",
    "print(\"The goal is to find some a_r such that \" + str(sA) + \" = a_r * \" + str(sG))\n",
    "\n",
    "# Both sA and sG fall in the r-torsion, as they are in the base subgroup. However, we need a subgroup not equal to the original base\n",
    "# subgroup in order to compute a pairing.\n",
    "# Therefore, we need to find the embedding degree k such that the field extension to k, F_{p^k} contains the entire r-torsion.\n",
    "for k in range(1, 10):\n",
    "    if (p^k - 1) % r == 0:\n",
    "        print(k)\n",
    "        break\n",
    "# the embedding degree k is 2. This is the weakness in this particular curve we exploit in this attack and make the DLP easy.\n",
    "\n",
    "# Now, we define a new curve E2 which is the extension of E on F_{p^2}:\n",
    "E2 = E.change_ring(GF(p^2))\n",
    "print(E2)\n"
   ]
  },
  {
   "cell_type": "code",
   "execution_count": 4,
   "metadata": {},
   "outputs": [
    {
     "name": "stdout",
     "output_type": "stream",
     "text": [
      "The goal is to find some a_s such that (995504861340942059004788910126 : 107940030991765253544851719980 : 1) = a_s * (1233781420613120848373297836636 : 470821891173910927420586962380 : 1)\n",
      "32135505\n",
      "rA = (995504861340942059004788910126 : 107940030991765253544851719980 : 1)\n",
      "a_s * rG = (995504861340942059004788910126 : 107940030991765253544851719980 : 1)\n"
     ]
    }
   ],
   "source": [
    "# Solving for a_s is much easier as s is smooth:\n",
    "rA = r * A\n",
    "rG = r * G\n",
    "print(\"The goal is to find some a_s such that \" + str(rA) + \" = a_s * \" + str(rG))\n",
    "\n",
    "# This can be solved immediately using Sage's discrete log solver:\n",
    "a_s = rG.discrete_log(rA)\n",
    "print(a_s)\n",
    "\n",
    "# we can verify that a_s is in fact the solution:\n",
    "print(\"rA = \" + str(rA))\n",
    "print(\"a_s * rG = \" + str(a_s*rG))"
   ]
  },
  {
   "cell_type": "code",
   "execution_count": 7,
   "metadata": {},
   "outputs": [
    {
     "name": "stdout",
     "output_type": "stream",
     "text": [
      "(866186263619328858219966257965*z2 + 979185601001975661335500150128 : 740075209261918744062934693482*z2 + 509802657324424945341899090322 : 1)\n",
      "2^4 * 7 * 11 * 29 * 191 * 271 * 457 * 919 * 1409 * 23687 * 1153763334005213\n",
      "weil1: 189127879196204868929465099759*z2 + 233398305187926584987110651425\n",
      "weil2: 45188818773932647637157215703*z2 + 179071977676504777171553799836\n",
      "774386641791944\n",
      "sA = (113155530967107107721855063813 : 1015480459109370604595193250002 : 1)\n",
      "a_r * sG = (113155530967107107721855063813 : 1015480459109370604595193250002 : 1)\n"
     ]
    }
   ],
   "source": [
    "# we cycle through random points defined on E2 until we find a point that lies in a non-base subgroup\n",
    "p2 = E2.random_point()\n",
    "print(p2)"
   ]
  },
  {
   "cell_type": "code",
   "execution_count": 6,
   "metadata": {},
   "outputs": [
    {
     "name": "stdout",
     "output_type": "stream",
     "text": [
      "2^4 * 7 * 11 * 29 * 191 * 271 * 457 * 919 * 1409 * 23687 * 1153763334005213\n",
      "weil1: 361708055255809691589369111058*z2 + 853704147612401762018651044800\n",
      "weil2: 886701389105137955538030605814*z2 + 197959008355509951055314416601\n",
      "774386641791944\n",
      "sA = (113155530967107107721855063813 : 1015480459109370604595193250002 : 1)\n",
      "a_r * sG = (113155530967107107721855063813 : 1015480459109370604595193250002 : 1)\n"
     ]
    }
   ],
   "source": [
    "# let p2 = (882582545787169929420298882396*z2 + 493247577639681608912475745989 : 623574581147517257440197646780*z2 + 566741962044583632192586866049 : 1)\n",
    "print(str(p2.order().factor()))\n",
    "remainder = p2.order() / r\n",
    "q2 = p2 * remainder # q2 is now the point we will use to compute pairings\n",
    "\n",
    "# finally, we can compare the Weil Pairings of (sA, q2) and (sG, q2)\n",
    "# in order to do this, we first must send sA and sG to the new curve E2\n",
    "sA2 = E2(sA)\n",
    "sG2 = E2(sG)\n",
    "weil1 = q2.weil_pairing(sA2, r)\n",
    "weil2 = q2.weil_pairing(sG2, r)\n",
    "print(\"weil1: \" + str(weil1))\n",
    "print(\"weil2: \" + str(weil2))\n",
    "\n",
    "# then we can use sage's built-in discrete log solver:\n",
    "a_r = weil1.log(weil2)\n",
    "print(a_r)\n",
    "\n",
    "# now, we can verify that a_r is in fact the solution to the DLP:\n",
    "print(\"sA = \" + str(sA))\n",
    "print(\"a_r * sG = \" + str(a_r*sG))\n",
    "# these values should match"
   ]
  },
  {
   "cell_type": "code",
   "execution_count": 10,
   "metadata": {},
   "outputs": [
    {
     "name": "stdout",
     "output_type": "stream",
     "text": [
      "A = (1110072782478160369250829345256 : 800079550745409318906383650948 : 1)\n",
      "aG = (1110072782478160369250829345256 : 800079550745409318906383650948 : 1)\n"
     ]
    }
   ],
   "source": [
    "# Now, we can use the Chinese Remainder Theorem to compute the actual value of a:\n",
    "a = CRT(a_r, a_s, r, s)\n",
    "\n",
    "# testing to make sure a is in fact the solution to A = aG:\n",
    "print(\"A = \" + str(A))\n",
    "print(\"aG = \" + str(a*G))"
   ]
  },
  {
   "cell_type": "code",
   "execution_count": null,
   "metadata": {},
   "outputs": [],
   "source": []
  }
 ],
 "metadata": {
  "kernelspec": {
   "display_name": "SageMath 9.7",
   "language": "sage",
   "name": "sagemath-9.7"
  },
  "language_info": {
   "codemirror_mode": {
    "name": "ipython",
    "version": 3
   },
   "file_extension": ".py",
   "mimetype": "text/x-python",
   "name": "python",
   "nbconvert_exporter": "python",
   "pygments_lexer": "ipython3",
   "version": "3.10.5"
  }
 },
 "nbformat": 4,
 "nbformat_minor": 2
}
